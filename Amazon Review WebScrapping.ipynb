{
 "cells": [
  {
   "cell_type": "code",
   "execution_count": 1,
   "metadata": {},
   "outputs": [
    {
     "name": "stdout",
     "output_type": "stream",
     "text": [
      "Requirement already satisfied: beautifulsoup4 in c:\\users\\dell\\anaconda3\\lib\\site-packages (4.9.1)\n",
      "Requirement already satisfied: soupsieve>1.2 in c:\\users\\dell\\anaconda3\\lib\\site-packages (from beautifulsoup4) (2.0.1)\n"
     ]
    }
   ],
   "source": [
    "!pip install beautifulsoup4"
   ]
  },
  {
   "cell_type": "code",
   "execution_count": 2,
   "metadata": {},
   "outputs": [
    {
     "name": "stdout",
     "output_type": "stream",
     "text": [
      "Requirement already satisfied: requests in c:\\users\\dell\\anaconda3\\lib\\site-packages (2.24.0)\n",
      "Requirement already satisfied: chardet<4,>=3.0.2 in c:\\users\\dell\\anaconda3\\lib\\site-packages (from requests) (3.0.4)\n",
      "Requirement already satisfied: idna<3,>=2.5 in c:\\users\\dell\\anaconda3\\lib\\site-packages (from requests) (2.10)\n",
      "Requirement already satisfied: urllib3!=1.25.0,!=1.25.1,<1.26,>=1.21.1 in c:\\users\\dell\\anaconda3\\lib\\site-packages (from requests) (1.25.9)\n",
      "Requirement already satisfied: certifi>=2017.4.17 in c:\\users\\dell\\anaconda3\\lib\\site-packages (from requests) (2020.6.20)\n"
     ]
    }
   ],
   "source": [
    "!pip install requests"
   ]
  },
  {
   "cell_type": "code",
   "execution_count": 3,
   "metadata": {},
   "outputs": [],
   "source": [
    "import sys\n",
    "import time\n",
    "from bs4 import BeautifulSoup\n",
    "import requests\n",
    "import pandas as pd"
   ]
  },
  {
   "cell_type": "code",
   "execution_count": 9,
   "metadata": {},
   "outputs": [],
   "source": [
    "try:\n",
    "    page=requests.get('https://www.amazon.in/product-reviews/B08L8CXFZ1/ref=cm_cr_arp_d_show_all?ie=UTF8&reviewerType=all_reviews&pageNumber=1#reviews-filter-bar')\n",
    "except Exception as e:\n",
    "    error_type, error_obj, error_info= sys.exc_info()\n",
    "    print('ERROR FOR LINK:', url)\n",
    "    print(error_type,'Line:',error_info.tb_lineno)\n",
    "time.sleep(2)\n",
    "soup=BeautifulSoup(page.text,'html.parser')\n",
    "links=soup.find_all('span',attrs={'class':'a-size-base'})"
   ]
  },
  {
   "cell_type": "code",
   "execution_count": 12,
   "metadata": {},
   "outputs": [
    {
     "name": "stdout",
     "output_type": "stream",
     "text": [
      "[<span class=\"a-size-base a-color-secondary\">22,243 global ratings</span>, <span class=\"a-size-base\">\n",
      "<a class=\"a-link-normal 5star\" href=\"/product-reviews/B08L8CXFZ1/ref=acr_dp_hist_5?ie=UTF8&amp;filterByStar=five_star&amp;reviewerType=all_reviews#reviews-filter-bar\" title=\"76% of reviews have 5 stars\">\n",
      "            5 star\n",
      "          </a>\n",
      "</span>, <span class=\"a-size-base\">\n",
      "<a class=\"a-link-normal\" href=\"/product-reviews/B08L8CXFZ1/ref=acr_dp_hist_5?ie=UTF8&amp;filterByStar=five_star&amp;reviewerType=all_reviews#reviews-filter-bar\" title=\"76% of reviews have 5 stars\">\n",
      "            \n",
      "              76%\n",
      "            \n",
      "          </a>\n",
      "</span>, <span class=\"a-size-base\">\n",
      "<a class=\"a-link-normal 4star\" href=\"/product-reviews/B08L8CXFZ1/ref=acr_dp_hist_4?ie=UTF8&amp;filterByStar=four_star&amp;reviewerType=all_reviews#reviews-filter-bar\" title=\"14% of reviews have 4 stars\">\n",
      "            4 star\n",
      "          </a>\n",
      "</span>, <span class=\"a-size-base\">\n",
      "<a class=\"a-link-normal\" href=\"/product-reviews/B08L8CXFZ1/ref=acr_dp_hist_4?ie=UTF8&amp;filterByStar=four_star&amp;reviewerType=all_reviews#reviews-filter-bar\" title=\"14% of reviews have 4 stars\">\n",
      "            \n",
      "              14%\n",
      "            \n",
      "          </a>\n",
      "</span>, <span class=\"a-size-base\">\n",
      "<a class=\"a-link-normal 3star\" href=\"/product-reviews/B08L8CXFZ1/ref=acr_dp_hist_3?ie=UTF8&amp;filterByStar=three_star&amp;reviewerType=all_reviews#reviews-filter-bar\" title=\"3% of reviews have 3 stars\">\n",
      "            3 star\n",
      "          </a>\n",
      "</span>, <span class=\"a-size-base\">\n",
      "<a class=\"a-link-normal\" href=\"/product-reviews/B08L8CXFZ1/ref=acr_dp_hist_3?ie=UTF8&amp;filterByStar=three_star&amp;reviewerType=all_reviews#reviews-filter-bar\" title=\"3% of reviews have 3 stars\">\n",
      "            \n",
      "              3%\n",
      "            \n",
      "          </a>\n",
      "</span>, <span class=\"a-size-base\">\n",
      "<a class=\"a-link-normal 2star\" href=\"/product-reviews/B08L8CXFZ1/ref=acr_dp_hist_2?ie=UTF8&amp;filterByStar=two_star&amp;reviewerType=all_reviews#reviews-filter-bar\" title=\"1% of reviews have 2 stars\">\n",
      "            2 star\n",
      "          </a>\n",
      "</span>, <span class=\"a-size-base\">\n",
      "<a class=\"a-link-normal\" href=\"/product-reviews/B08L8CXFZ1/ref=acr_dp_hist_2?ie=UTF8&amp;filterByStar=two_star&amp;reviewerType=all_reviews#reviews-filter-bar\" title=\"1% of reviews have 2 stars\">\n",
      "            \n",
      "              1%\n",
      "            \n",
      "          </a>\n",
      "</span>, <span class=\"a-size-base\">\n",
      "<a class=\"a-link-normal 1star\" href=\"/product-reviews/B08L8CXFZ1/ref=acr_dp_hist_1?ie=UTF8&amp;filterByStar=one_star&amp;reviewerType=all_reviews#reviews-filter-bar\" title=\"5% of reviews have 1 stars\">\n",
      "            1 star\n",
      "          </a>\n",
      "</span>, <span class=\"a-size-base\">\n",
      "<a class=\"a-link-normal\" href=\"/product-reviews/B08L8CXFZ1/ref=acr_dp_hist_1?ie=UTF8&amp;filterByStar=one_star&amp;reviewerType=all_reviews#reviews-filter-bar\" title=\"5% of reviews have 1 stars\">\n",
      "            \n",
      "              5%\n",
      "            \n",
      "          </a>\n",
      "</span>, <span class=\"a-size-base\" id=\"cr-arp-byline\">\n",
      "    by<span class=\"a-letter-space\"></span><a class=\"a-size-base a-link-normal\" href=\"/stores/Apple/page/88D59F86-9161-4804-A524-0A5B39CD714A?ref_=ast_bln\">Apple</a>\n",
      "</span>, <span class=\"a-size-base a-color-secondary\">Size name: 128GB<i aria-label=\"|\" class=\"a-icon a-icon-text-separator\" role=\"img\"></i>Colour: Purple<i aria-label=\"|\" class=\"a-icon a-icon-text-separator\" role=\"img\"></i>Pattern name: iPhone 11</span>, <span class=\"a-size-base back-carat a-text-bold\">› </span>, <span class=\"a-size-base review-title a-text-bold\" data-hook=\"review-title\">Solid premium phone from Apple</span>, <span class=\"a-size-base a-color-secondary review-date\">Reviewed in India on 30 September 2019</span>, <span class=\"a-size-base\">Awesome Phone. Nice upgrade from iPhone 6s to iPhone 11. Love this beautiful phone.</span>, <span class=\"a-size-base back-carat a-text-bold\">› </span>, <span class=\"a-size-base review-title a-text-bold\" data-hook=\"review-title\">Do not buy iphone or expensive product from Amazom</span>, <span class=\"a-size-base a-color-secondary review-date\">Reviewed in India on 10 July 2020</span>, <span class=\"a-size-base\">Please do not buy expensive product like iphone from Amazon, i had very bad exp, the charger cord was missing and had sound quality issues. Amazon initial told charger doesn't come in box and when i challenged it they asked reimburse the cord amount, but i requested a replacement, after some days they called me and informed that they dont take responsibility of missing items, and 10 day replacement policy they dont follow, you can read the email conversation attached  here where i mentioned every thing, i have the call recordings as well. At last they denied the phone replacement and even to provide the missing cord. For any damage or quality issues they said amazon is not responsible.</span>, <span class=\"a-size-base a-color-secondary review-date\" data-hook=\"review-date\">Reviewed in India on 10 July 2020</span>, <span class=\"a-size-base review-text review-text-content\" data-hook=\"review-body\">\n",
      "<span>\n",
      "  Please do not buy expensive product like iphone from Amazon, i had very bad exp, the charger cord was missing and had sound quality issues. Amazon initial told charger doesn't come in box and when i challenged it they asked reimburse the cord amount, but i requested a replacement, after some days they called me and informed that they dont take responsibility of missing items, and 10 day replacement policy they dont follow, you can read the email conversation attached  here where i mentioned every thing, i have the call recordings as well. At last they denied the phone replacement and even to provide the missing cord. For any damage or quality issues they said amazon is not responsible.\n",
      "</span>\n",
      "</span>, <span class=\"a-size-base a-text-bold\">\n",
      "                Do not buy iphone or expensive product from Amazom\n",
      "            </span>, <span class=\"a-size-base\">\n",
      "            Please do not buy expensive product like iphone from Amazon, i had very bad exp, the charger cord was missing and had sound quality issues. Amazon initial told charger doesn't come in box and when i challenged it they asked reimburse the cord amount, but i requested a replacement, after some days they called me and informed that they dont take responsibility of missing items, and 10 day replacement policy they dont follow, you can read the email conversation attached  here where i mentioned every thing, i have the call recordings as well. At last they denied the phone replacement and even to provide the missing cord. For any damage or quality issues they said amazon is not responsible.\n",
      "        </span>, <span class=\"a-size-base a-color-tertiary cr-vote-text\" data-hook=\"helpful-vote-statement\">17,609 people found this helpful</span>, <span class=\"a-size-base a-viewoptions-list-label\">Showing <span class=\"review-comment-count\">0</span> comments</span>, <span class=\"a-size-base a-color-secondary review-date\" data-hook=\"review-date\">Reviewed in India on 13 November 2019</span>, <span class=\"a-size-base review-text review-text-content\" data-hook=\"review-body\">\n",
      "<span>\n",
      "  Bought the mobile from appario retail ltd. Mobile is heating up within seconds and also camera modes aren’t working properly. Particularly in portrait mode, the stage light and mono options aren’t working properly.  i raised the same to apple customer care they confirmed that its not software issue. But the amazon customer care told me that they need a job card and report from apple service center. The nearest service center is located at 210km from my place, imagine the amount of strain and how much its going to cost. Before you buy anything from this seller just google it and u can find numerous complaints on this seller. What ever they sell u will find defective products only. There is a thread on this sellers dubious deals in quora. Please be safe and don’t regret after.\n",
      "</span>\n",
      "</span>, <span class=\"a-size-base a-text-bold\">\n",
      "                Don’t buy it from this seller\n",
      "            </span>, <span class=\"a-size-base\">\n",
      "            Bought the mobile from appario retail ltd. Mobile is heating up within seconds and also camera modes aren’t working properly. Particularly in portrait mode, the stage light and mono options aren’t working properly.  i raised the same to apple customer care they confirmed that its not software issue. But the amazon customer care told me that they need a job card and report from apple service center. The nearest service center is located at 210km from my place, imagine the amount of strain and how much its going to cost. Before you buy anything from this seller just google it and u can find numerous complaints on this seller. What ever they sell u will find defective products only. There is a thread on this sellers dubious deals in quora. Please be safe and don’t regret after.\n",
      "        </span>, <span class=\"a-size-base a-color-tertiary cr-vote-text\" data-hook=\"helpful-vote-statement\">4,940 people found this helpful</span>, <span class=\"a-size-base a-viewoptions-list-label\">Showing <span class=\"review-comment-count\">0</span> comments</span>, <span class=\"a-size-base a-color-secondary review-date\" data-hook=\"review-date\">Reviewed in India on 30 September 2019</span>, <span class=\"a-size-base review-text review-text-content\" data-hook=\"review-body\">\n",
      "<span>\n",
      "  Awesome Phone. Nice upgrade from iPhone 6s to iPhone 11. Love this beautiful phone.\n",
      "</span>\n",
      "</span>, <span class=\"a-size-base a-text-bold\">\n",
      "                Solid premium phone from Apple\n",
      "            </span>, <span class=\"a-size-base\">\n",
      "            Awesome Phone. Nice upgrade from iPhone 6s to iPhone 11. Love this beautiful phone.\n",
      "        </span>, <span class=\"a-size-base a-color-tertiary cr-vote-text\" data-hook=\"helpful-vote-statement\">2,792 people found this helpful</span>, <span class=\"a-size-base a-viewoptions-list-label\">Showing <span class=\"review-comment-count\">0</span> comments</span>, <span class=\"a-size-base a-color-secondary review-date\" data-hook=\"review-date\">Reviewed in India on 22 July 2020</span>, <span class=\"a-size-base review-text review-text-content\" data-hook=\"review-body\">\n",
      "<span>\n",
      "  This is a big scam. I received the iphone 11 yesterday and it turned out to be a defective piece . The audio doesn’t record when you are recording a video. Multiple other issues like phone not turning on even after being on full charge . So it says 10 days replacement on this. So I clicked on it and Amazon says we can’t do anything you should contact Apple . Apple says our service Centers are not having any slots so we can’t do anything you should contact amazon . What is this ? You torture a customer as soon as you make money . And that too for such en expensive phone . I demand a replacement for my phone right now Amazon ! Don’t play with people’s hard earned money . Guys stay away from this Apple days sale .\n",
      "</span>\n",
      "</span>, <span class=\"a-size-base a-color-tertiary cr-vote-text\" data-hook=\"helpful-vote-statement\">1,211 people found this helpful</span>, <span class=\"a-size-base a-viewoptions-list-label\">Showing <span class=\"review-comment-count\">0</span> comments</span>, <span class=\"a-size-base a-color-secondary review-date\" data-hook=\"review-date\">Reviewed in India on 14 October 2019</span>, <span class=\"a-size-base review-text review-text-content\" data-hook=\"review-body\">\n",
      "<span>\n",
      "  My Phone is Producing Too Much Heat Even Didn’t Put Sim , Never used more than Half an hour And It’s producing too much heat.. Totally Disappointed With Amazon. Now they are saying To Go Icare services( After Calling to customer care several times) Amazon can’t do anything For this . Worst Experience with Amazon. No one would like to repair new phone 😢 Better Go for shop To buy apple products .\n",
      "</span>\n",
      "</span>, <span class=\"a-size-base a-color-tertiary cr-vote-text\" data-hook=\"helpful-vote-statement\">1,383 people found this helpful</span>, <span class=\"a-size-base a-viewoptions-list-label\">Showing <span class=\"review-comment-count\">0</span> comments</span>, <span class=\"a-size-base a-color-secondary review-date\" data-hook=\"review-date\">Reviewed in India on 29 September 2019</span>, <span class=\"a-size-base review-text review-text-content\" data-hook=\"review-body\">\n",
      "<span>\n",
      "  The iPhone design is good and the camera quality is awesome. You can also take pictures in wide angles and the image quality is awesome.<br><br>Phone got delivered at 9am on 28th September (I pre-order it on 27th September at 3am in the morning), I got my phone before the delivery date with nice and secured packaging.<br><br/>The overall look of the phone is premium and face unlocking is fast. I grabbed this phone with HDFC 6K Instant Discount Offer at Just 64K (128 GB Variant).<br/><br/>Cons:<br/><br/>1. The phone is great but if you use \"in the box\" accessories like \"EarPods with Lighting Connector\", then you might feel a little pain in your ears.<br/><br/>2. The phone comes with 5W charger which charge your phone slowly. I recommend you to prefer using 18W charger.<br/><br/>Well, I've never tried the iPhone before and I'm using this for the first time (Yes, I'm already using other apple products like MacBook Air &amp; Pro).<br/><br/>But the product is great and I'm just lovin it.\n",
      "</br></br></br></span>\n",
      "</span>, <span class=\"a-size-base a-text-bold\">\n",
      "                First Time iPhone User Review :-)\n",
      "            </span>, <span class=\"a-size-base\">\n",
      "            The iPhone design is good and the camera quality is awesome. You can also take pictures in wide angles and the image quality is awesome.<br><br/>Phone got delivered at 9am on 28th September (I pre-order it on 27th September at 3am in the morning), I got my phone before the delivery date with nice and secured packaging.<br/><br/>The overall look of the phone is premium and face unlocking is fast. I grabbed this phone with HDFC 6K Instant Discount Offer at Just 64K (128 GB Variant).<br/><br/>Cons:<br/><br/>1. The phone is great but if you use \"in the box\" accessories like \"EarPods with Lighting Connector\", then you might feel a little pain in your ears.<br/><br/>2. The phone comes with 5W charger which charge your phone slowly. I recommend you to prefer using 18W charger.<br/><br/>Well, I've never tried the iPhone before and I'm using this for the first time (Yes, I'm already using other apple products like MacBook Air &amp; Pro).<br/><br/>But the product is great and I'm just lovin it.\n",
      "        </br></span>, <span class=\"a-size-base a-color-tertiary cr-vote-text\" data-hook=\"helpful-vote-statement\">1,848 people found this helpful</span>, <span class=\"a-size-base a-viewoptions-list-label\">Showing <span class=\"review-comment-count\">0</span> comments</span>, <span class=\"a-size-base a-color-secondary review-date\" data-hook=\"review-date\">Reviewed in India on 10 October 2019</span>, <span class=\"a-size-base review-text review-text-content\" data-hook=\"review-body\">\n",
      "<span>\n",
      "  Defective product,got heat up within 5 minutes of starting. Need to return  fast<br/>Very very bad experience\n",
      "</span>\n",
      "</span>, <span class=\"a-size-base a-color-tertiary cr-vote-text\" data-hook=\"helpful-vote-statement\">1,167 people found this helpful</span>, <span class=\"a-size-base a-viewoptions-list-label\">Showing <span class=\"review-comment-count\">0</span> comments</span>, <span class=\"a-size-base a-color-secondary review-date\" data-hook=\"review-date\">Reviewed in India on 14 October 2019</span>, <span class=\"a-size-base review-text review-text-content\" data-hook=\"review-body\">\n",
      "<span>\n",
      "  The product i got was defective . The face id is not working and the back camera is also not working. There is a lot of hassle to get it exchanged. The apple service centre is also not of much help as the product is from amazon. Please buy phones from apple store to get the right product .\n",
      "</span>\n",
      "</span>, <span class=\"a-size-base a-color-tertiary cr-vote-text\" data-hook=\"helpful-vote-statement\">1,098 people found this helpful</span>, <span class=\"a-size-base a-viewoptions-list-label\">Showing <span class=\"review-comment-count\">0</span> comments</span>, <span class=\"a-size-base a-color-secondary review-date\" data-hook=\"review-date\">Reviewed in India on 21 October 2019</span>, <span class=\"a-size-base review-text review-text-content\" data-hook=\"review-body\">\n",
      "<span>\n",
      "  Just after i switched it on, it started producing so much heating even i cant hold it by hand. Later i tried YouTube, game, normal browsing and it has the same excessive heating issue. Seems defective piece. I need refund asap. I have not paid 70k for a defective phone. I am feeling like got scammed.<br/><br/>Edit - I returned this phone and got refund from amazon and bought the same from flipkart ..and it got no issues .\n",
      "</span>\n",
      "</span>, <span class=\"a-size-base a-color-tertiary cr-vote-text\" data-hook=\"helpful-vote-statement\">706 people found this helpful</span>, <span class=\"a-size-base a-viewoptions-list-label\">Showing <span class=\"review-comment-count\">0</span> comments</span>, <span class=\"a-size-base a-color-secondary review-date\" data-hook=\"review-date\">Reviewed in India on 8 November 2019</span>, <span class=\"a-size-base review-text review-text-content\" data-hook=\"review-body\">\n",
      "<span>\n",
      "  Provided with defective product .<br/>Struggling for replacement since then .<br/>There are so many hidden terms and conditions.<br/>It's my last order on Amazon\n",
      "</span>\n",
      "</span>, <span class=\"a-size-base a-color-tertiary cr-vote-text\" data-hook=\"helpful-vote-statement\">671 people found this helpful</span>, <span class=\"a-size-base a-viewoptions-list-label\">Showing <span class=\"review-comment-count\">0</span> comments</span>, <span class=\"a-size-base\">Need customer service? <a class=\"a-link-normal\" href=\"/gp/help/customer/contact-us?initialIssue=cust-review\" target=\"_blank\">Click here</a></span>, <span class=\"a-size-base back-carat a-text-bold\">‹ </span>]\n"
     ]
    }
   ],
   "source": [
    "print(links)"
   ]
  },
  {
   "cell_type": "code",
   "execution_count": null,
   "metadata": {},
   "outputs": [],
   "source": []
  }
 ],
 "metadata": {
  "kernelspec": {
   "display_name": "Python 3",
   "language": "python",
   "name": "python3"
  },
  "language_info": {
   "codemirror_mode": {
    "name": "ipython",
    "version": 3
   },
   "file_extension": ".py",
   "mimetype": "text/x-python",
   "name": "python",
   "nbconvert_exporter": "python",
   "pygments_lexer": "ipython3",
   "version": "3.8.3"
  }
 },
 "nbformat": 4,
 "nbformat_minor": 4
}
