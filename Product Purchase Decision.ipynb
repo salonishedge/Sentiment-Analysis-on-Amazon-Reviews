{
 "cells": [
  {
   "cell_type": "code",
   "execution_count": 162,
   "metadata": {},
   "outputs": [],
   "source": [
    "import pandas as pd\n",
    "import numpy as np\n",
    "import matplotlib as plt\n",
    "import bz2\n",
    "from sklearn.metrics import f1_score, roc_auc_score, accuracy_score\n",
    "import re\n",
    "%matplotlib inline"
   ]
  },
  {
   "cell_type": "code",
   "execution_count": 163,
   "metadata": {},
   "outputs": [],
   "source": [
    "df=pd.read_csv('amazon_reviews.csv')"
   ]
  },
  {
   "cell_type": "code",
   "execution_count": 164,
   "metadata": {},
   "outputs": [
    {
     "data": {
      "text/html": [
       "<div>\n",
       "<style scoped>\n",
       "    .dataframe tbody tr th:only-of-type {\n",
       "        vertical-align: middle;\n",
       "    }\n",
       "\n",
       "    .dataframe tbody tr th {\n",
       "        vertical-align: top;\n",
       "    }\n",
       "\n",
       "    .dataframe thead th {\n",
       "        text-align: right;\n",
       "    }\n",
       "</style>\n",
       "<table border=\"1\" class=\"dataframe\">\n",
       "  <thead>\n",
       "    <tr style=\"text-align: right;\">\n",
       "      <th></th>\n",
       "      <th>Unnamed: 0</th>\n",
       "      <th>reviews</th>\n",
       "    </tr>\n",
       "  </thead>\n",
       "  <tbody>\n",
       "    <tr>\n",
       "      <th>0</th>\n",
       "      <td>0</td>\n",
       "      <td>* It's my first ever truly wireless buds and...</td>\n",
       "    </tr>\n",
       "    <tr>\n",
       "      <th>1</th>\n",
       "      <td>1</td>\n",
       "      <td>Music quality is average but the calling qua...</td>\n",
       "    </tr>\n",
       "    <tr>\n",
       "      <th>2</th>\n",
       "      <td>2</td>\n",
       "      <td>2 months of usage and previous unit replaced...</td>\n",
       "    </tr>\n",
       "    <tr>\n",
       "      <th>3</th>\n",
       "      <td>3</td>\n",
       "      <td>I bought this on the day of release i.e. on ...</td>\n",
       "    </tr>\n",
       "    <tr>\n",
       "      <th>4</th>\n",
       "      <td>4</td>\n",
       "      <td>Left earbud static problem minor but I have ...</td>\n",
       "    </tr>\n",
       "  </tbody>\n",
       "</table>\n",
       "</div>"
      ],
      "text/plain": [
       "   Unnamed: 0                                            reviews\n",
       "0           0    * It's my first ever truly wireless buds and...\n",
       "1           1    Music quality is average but the calling qua...\n",
       "2           2    2 months of usage and previous unit replaced...\n",
       "3           3    I bought this on the day of release i.e. on ...\n",
       "4           4    Left earbud static problem minor but I have ..."
      ]
     },
     "execution_count": 164,
     "metadata": {},
     "output_type": "execute_result"
    }
   ],
   "source": [
    "df.head()"
   ]
  },
  {
   "cell_type": "code",
   "execution_count": 165,
   "metadata": {},
   "outputs": [
    {
     "data": {
      "text/plain": [
       "1000"
      ]
     },
     "execution_count": 165,
     "metadata": {},
     "output_type": "execute_result"
    }
   ],
   "source": [
    "len(df)"
   ]
  },
  {
   "cell_type": "code",
   "execution_count": 166,
   "metadata": {},
   "outputs": [
    {
     "data": {
      "text/html": [
       "<div>\n",
       "<style scoped>\n",
       "    .dataframe tbody tr th:only-of-type {\n",
       "        vertical-align: middle;\n",
       "    }\n",
       "\n",
       "    .dataframe tbody tr th {\n",
       "        vertical-align: top;\n",
       "    }\n",
       "\n",
       "    .dataframe thead th {\n",
       "        text-align: right;\n",
       "    }\n",
       "</style>\n",
       "<table border=\"1\" class=\"dataframe\">\n",
       "  <thead>\n",
       "    <tr style=\"text-align: right;\">\n",
       "      <th></th>\n",
       "      <th>Unnamed: 0</th>\n",
       "      <th>reviews</th>\n",
       "    </tr>\n",
       "  </thead>\n",
       "  <tbody>\n",
       "    <tr>\n",
       "      <th>0</th>\n",
       "      <td>0</td>\n",
       "      <td>* It's my first ever truly wireless buds and...</td>\n",
       "    </tr>\n",
       "    <tr>\n",
       "      <th>1</th>\n",
       "      <td>1</td>\n",
       "      <td>Music quality is average but the calling qua...</td>\n",
       "    </tr>\n",
       "    <tr>\n",
       "      <th>2</th>\n",
       "      <td>2</td>\n",
       "      <td>2 months of usage and previous unit replaced...</td>\n",
       "    </tr>\n",
       "    <tr>\n",
       "      <th>3</th>\n",
       "      <td>3</td>\n",
       "      <td>I bought this on the day of release i.e. on ...</td>\n",
       "    </tr>\n",
       "    <tr>\n",
       "      <th>4</th>\n",
       "      <td>4</td>\n",
       "      <td>Left earbud static problem minor but I have ...</td>\n",
       "    </tr>\n",
       "    <tr>\n",
       "      <th>...</th>\n",
       "      <td>...</td>\n",
       "      <td>...</td>\n",
       "    </tr>\n",
       "    <tr>\n",
       "      <th>995</th>\n",
       "      <td>995</td>\n",
       "      <td>After getting connected to the device there ...</td>\n",
       "    </tr>\n",
       "    <tr>\n",
       "      <th>996</th>\n",
       "      <td>996</td>\n",
       "      <td>Pros-Very nice sound.feels like you are in m...</td>\n",
       "    </tr>\n",
       "    <tr>\n",
       "      <th>997</th>\n",
       "      <td>997</td>\n",
       "      <td>Excellent</td>\n",
       "    </tr>\n",
       "    <tr>\n",
       "      <th>998</th>\n",
       "      <td>998</td>\n",
       "      <td>Battery does not last as long as the company...</td>\n",
       "    </tr>\n",
       "    <tr>\n",
       "      <th>999</th>\n",
       "      <td>999</td>\n",
       "      <td>Sound - 8/10Bass - 9/10Looks awesomeBuild qu...</td>\n",
       "    </tr>\n",
       "  </tbody>\n",
       "</table>\n",
       "<p>1000 rows × 2 columns</p>\n",
       "</div>"
      ],
      "text/plain": [
       "     Unnamed: 0                                            reviews\n",
       "0             0    * It's my first ever truly wireless buds and...\n",
       "1             1    Music quality is average but the calling qua...\n",
       "2             2    2 months of usage and previous unit replaced...\n",
       "3             3    I bought this on the day of release i.e. on ...\n",
       "4             4    Left earbud static problem minor but I have ...\n",
       "..          ...                                                ...\n",
       "995         995    After getting connected to the device there ...\n",
       "996         996    Pros-Very nice sound.feels like you are in m...\n",
       "997         997                                          Excellent\n",
       "998         998    Battery does not last as long as the company...\n",
       "999         999    Sound - 8/10Bass - 9/10Looks awesomeBuild qu...\n",
       "\n",
       "[1000 rows x 2 columns]"
      ]
     },
     "execution_count": 166,
     "metadata": {},
     "output_type": "execute_result"
    }
   ],
   "source": [
    "df\n"
   ]
  },
  {
   "cell_type": "code",
   "execution_count": 167,
   "metadata": {},
   "outputs": [],
   "source": [
    "df_only_review = df['reviews']"
   ]
  },
  {
   "cell_type": "code",
   "execution_count": 168,
   "metadata": {},
   "outputs": [
    {
     "data": {
      "text/plain": [
       "0        * It's my first ever truly wireless buds and...\n",
       "1        Music quality is average but the calling qua...\n",
       "2        2 months of usage and previous unit replaced...\n",
       "3        I bought this on the day of release i.e. on ...\n",
       "4        Left earbud static problem minor but I have ...\n",
       "                             ...                        \n",
       "995      After getting connected to the device there ...\n",
       "996      Pros-Very nice sound.feels like you are in m...\n",
       "997                                            Excellent\n",
       "998      Battery does not last as long as the company...\n",
       "999      Sound - 8/10Bass - 9/10Looks awesomeBuild qu...\n",
       "Name: reviews, Length: 1000, dtype: object"
      ]
     },
     "execution_count": 168,
     "metadata": {},
     "output_type": "execute_result"
    }
   ],
   "source": [
    "df_only_review"
   ]
  },
  {
   "cell_type": "code",
   "execution_count": 169,
   "metadata": {},
   "outputs": [],
   "source": [
    "from textblob import TextBlob"
   ]
  },
  {
   "cell_type": "code",
   "execution_count": 170,
   "metadata": {},
   "outputs": [],
   "source": [
    "#create a subjectivity\n",
    "def getSubjectivity(df):\n",
    "    return TextBlob(df).sentiment.subjectivity\n",
    "\n",
    "def getPolarity(df):\n",
    "    return TextBlob(df).sentiment.polarity\n",
    "\n",
    "#create two new columns\n",
    "df['Subjectivity']=df['reviews'].apply(getSubjectivity)\n",
    "df['Polarity']=df['reviews'].apply(getPolarity)\n"
   ]
  },
  {
   "cell_type": "code",
   "execution_count": 171,
   "metadata": {},
   "outputs": [
    {
     "data": {
      "text/html": [
       "<div>\n",
       "<style scoped>\n",
       "    .dataframe tbody tr th:only-of-type {\n",
       "        vertical-align: middle;\n",
       "    }\n",
       "\n",
       "    .dataframe tbody tr th {\n",
       "        vertical-align: top;\n",
       "    }\n",
       "\n",
       "    .dataframe thead th {\n",
       "        text-align: right;\n",
       "    }\n",
       "</style>\n",
       "<table border=\"1\" class=\"dataframe\">\n",
       "  <thead>\n",
       "    <tr style=\"text-align: right;\">\n",
       "      <th></th>\n",
       "      <th>Unnamed: 0</th>\n",
       "      <th>reviews</th>\n",
       "      <th>Subjectivity</th>\n",
       "      <th>Polarity</th>\n",
       "    </tr>\n",
       "  </thead>\n",
       "  <tbody>\n",
       "    <tr>\n",
       "      <th>0</th>\n",
       "      <td>0</td>\n",
       "      <td>* It's my first ever truly wireless buds and...</td>\n",
       "      <td>0.479556</td>\n",
       "      <td>0.262222</td>\n",
       "    </tr>\n",
       "    <tr>\n",
       "      <th>1</th>\n",
       "      <td>1</td>\n",
       "      <td>Music quality is average but the calling qua...</td>\n",
       "      <td>0.670000</td>\n",
       "      <td>-0.447333</td>\n",
       "    </tr>\n",
       "    <tr>\n",
       "      <th>2</th>\n",
       "      <td>2</td>\n",
       "      <td>2 months of usage and previous unit replaced...</td>\n",
       "      <td>0.397932</td>\n",
       "      <td>0.260871</td>\n",
       "    </tr>\n",
       "    <tr>\n",
       "      <th>3</th>\n",
       "      <td>3</td>\n",
       "      <td>I bought this on the day of release i.e. on ...</td>\n",
       "      <td>0.450649</td>\n",
       "      <td>-0.148377</td>\n",
       "    </tr>\n",
       "    <tr>\n",
       "      <th>4</th>\n",
       "      <td>4</td>\n",
       "      <td>Left earbud static problem minor but I have ...</td>\n",
       "      <td>0.366667</td>\n",
       "      <td>0.150000</td>\n",
       "    </tr>\n",
       "    <tr>\n",
       "      <th>...</th>\n",
       "      <td>...</td>\n",
       "      <td>...</td>\n",
       "      <td>...</td>\n",
       "      <td>...</td>\n",
       "    </tr>\n",
       "    <tr>\n",
       "      <th>995</th>\n",
       "      <td>995</td>\n",
       "      <td>After getting connected to the device there ...</td>\n",
       "      <td>0.342262</td>\n",
       "      <td>0.175595</td>\n",
       "    </tr>\n",
       "    <tr>\n",
       "      <th>996</th>\n",
       "      <td>996</td>\n",
       "      <td>Pros-Very nice sound.feels like you are in m...</td>\n",
       "      <td>0.539216</td>\n",
       "      <td>0.213235</td>\n",
       "    </tr>\n",
       "    <tr>\n",
       "      <th>997</th>\n",
       "      <td>997</td>\n",
       "      <td>Excellent</td>\n",
       "      <td>1.000000</td>\n",
       "      <td>1.000000</td>\n",
       "    </tr>\n",
       "    <tr>\n",
       "      <th>998</th>\n",
       "      <td>998</td>\n",
       "      <td>Battery does not last as long as the company...</td>\n",
       "      <td>0.361111</td>\n",
       "      <td>0.027083</td>\n",
       "    </tr>\n",
       "    <tr>\n",
       "      <th>999</th>\n",
       "      <td>999</td>\n",
       "      <td>Sound - 8/10Bass - 9/10Looks awesomeBuild qu...</td>\n",
       "      <td>0.495556</td>\n",
       "      <td>0.296667</td>\n",
       "    </tr>\n",
       "  </tbody>\n",
       "</table>\n",
       "<p>1000 rows × 4 columns</p>\n",
       "</div>"
      ],
      "text/plain": [
       "     Unnamed: 0                                            reviews  \\\n",
       "0             0    * It's my first ever truly wireless buds and...   \n",
       "1             1    Music quality is average but the calling qua...   \n",
       "2             2    2 months of usage and previous unit replaced...   \n",
       "3             3    I bought this on the day of release i.e. on ...   \n",
       "4             4    Left earbud static problem minor but I have ...   \n",
       "..          ...                                                ...   \n",
       "995         995    After getting connected to the device there ...   \n",
       "996         996    Pros-Very nice sound.feels like you are in m...   \n",
       "997         997                                          Excellent   \n",
       "998         998    Battery does not last as long as the company...   \n",
       "999         999    Sound - 8/10Bass - 9/10Looks awesomeBuild qu...   \n",
       "\n",
       "     Subjectivity  Polarity  \n",
       "0        0.479556  0.262222  \n",
       "1        0.670000 -0.447333  \n",
       "2        0.397932  0.260871  \n",
       "3        0.450649 -0.148377  \n",
       "4        0.366667  0.150000  \n",
       "..            ...       ...  \n",
       "995      0.342262  0.175595  \n",
       "996      0.539216  0.213235  \n",
       "997      1.000000  1.000000  \n",
       "998      0.361111  0.027083  \n",
       "999      0.495556  0.296667  \n",
       "\n",
       "[1000 rows x 4 columns]"
      ]
     },
     "execution_count": 171,
     "metadata": {},
     "output_type": "execute_result"
    }
   ],
   "source": [
    "df"
   ]
  },
  {
   "cell_type": "code",
   "execution_count": 154,
   "metadata": {},
   "outputs": [],
   "source": [
    "from wordcloud import WordCloud "
   ]
  },
  {
   "cell_type": "code",
   "execution_count": 172,
   "metadata": {},
   "outputs": [],
   "source": [
    "#create a function to compute negative,neutral or positive\n",
    "def getAnalysis(score):\n",
    "\n",
    "    if(score) <0:\n",
    "        return 'Negative'\n",
    "        \n",
    "    elif score ==0:\n",
    "        return 'Neutral'\n",
    "        \n",
    "    else:\n",
    "        return 'Positive'\n",
    "        \n",
    "    \n",
    "    \n",
    "df['Analysis']=df['Polarity'].apply(getAnalysis)\n"
   ]
  },
  {
   "cell_type": "code",
   "execution_count": 173,
   "metadata": {},
   "outputs": [
    {
     "data": {
      "text/html": [
       "<div>\n",
       "<style scoped>\n",
       "    .dataframe tbody tr th:only-of-type {\n",
       "        vertical-align: middle;\n",
       "    }\n",
       "\n",
       "    .dataframe tbody tr th {\n",
       "        vertical-align: top;\n",
       "    }\n",
       "\n",
       "    .dataframe thead th {\n",
       "        text-align: right;\n",
       "    }\n",
       "</style>\n",
       "<table border=\"1\" class=\"dataframe\">\n",
       "  <thead>\n",
       "    <tr style=\"text-align: right;\">\n",
       "      <th></th>\n",
       "      <th>Unnamed: 0</th>\n",
       "      <th>reviews</th>\n",
       "      <th>Subjectivity</th>\n",
       "      <th>Polarity</th>\n",
       "      <th>Analysis</th>\n",
       "    </tr>\n",
       "  </thead>\n",
       "  <tbody>\n",
       "    <tr>\n",
       "      <th>0</th>\n",
       "      <td>0</td>\n",
       "      <td>* It's my first ever truly wireless buds and...</td>\n",
       "      <td>0.479556</td>\n",
       "      <td>0.262222</td>\n",
       "      <td>Positive</td>\n",
       "    </tr>\n",
       "    <tr>\n",
       "      <th>1</th>\n",
       "      <td>1</td>\n",
       "      <td>Music quality is average but the calling qua...</td>\n",
       "      <td>0.670000</td>\n",
       "      <td>-0.447333</td>\n",
       "      <td>Negative</td>\n",
       "    </tr>\n",
       "    <tr>\n",
       "      <th>2</th>\n",
       "      <td>2</td>\n",
       "      <td>2 months of usage and previous unit replaced...</td>\n",
       "      <td>0.397932</td>\n",
       "      <td>0.260871</td>\n",
       "      <td>Positive</td>\n",
       "    </tr>\n",
       "    <tr>\n",
       "      <th>3</th>\n",
       "      <td>3</td>\n",
       "      <td>I bought this on the day of release i.e. on ...</td>\n",
       "      <td>0.450649</td>\n",
       "      <td>-0.148377</td>\n",
       "      <td>Negative</td>\n",
       "    </tr>\n",
       "    <tr>\n",
       "      <th>4</th>\n",
       "      <td>4</td>\n",
       "      <td>Left earbud static problem minor but I have ...</td>\n",
       "      <td>0.366667</td>\n",
       "      <td>0.150000</td>\n",
       "      <td>Positive</td>\n",
       "    </tr>\n",
       "    <tr>\n",
       "      <th>...</th>\n",
       "      <td>...</td>\n",
       "      <td>...</td>\n",
       "      <td>...</td>\n",
       "      <td>...</td>\n",
       "      <td>...</td>\n",
       "    </tr>\n",
       "    <tr>\n",
       "      <th>995</th>\n",
       "      <td>995</td>\n",
       "      <td>After getting connected to the device there ...</td>\n",
       "      <td>0.342262</td>\n",
       "      <td>0.175595</td>\n",
       "      <td>Positive</td>\n",
       "    </tr>\n",
       "    <tr>\n",
       "      <th>996</th>\n",
       "      <td>996</td>\n",
       "      <td>Pros-Very nice sound.feels like you are in m...</td>\n",
       "      <td>0.539216</td>\n",
       "      <td>0.213235</td>\n",
       "      <td>Positive</td>\n",
       "    </tr>\n",
       "    <tr>\n",
       "      <th>997</th>\n",
       "      <td>997</td>\n",
       "      <td>Excellent</td>\n",
       "      <td>1.000000</td>\n",
       "      <td>1.000000</td>\n",
       "      <td>Positive</td>\n",
       "    </tr>\n",
       "    <tr>\n",
       "      <th>998</th>\n",
       "      <td>998</td>\n",
       "      <td>Battery does not last as long as the company...</td>\n",
       "      <td>0.361111</td>\n",
       "      <td>0.027083</td>\n",
       "      <td>Positive</td>\n",
       "    </tr>\n",
       "    <tr>\n",
       "      <th>999</th>\n",
       "      <td>999</td>\n",
       "      <td>Sound - 8/10Bass - 9/10Looks awesomeBuild qu...</td>\n",
       "      <td>0.495556</td>\n",
       "      <td>0.296667</td>\n",
       "      <td>Positive</td>\n",
       "    </tr>\n",
       "  </tbody>\n",
       "</table>\n",
       "<p>1000 rows × 5 columns</p>\n",
       "</div>"
      ],
      "text/plain": [
       "     Unnamed: 0                                            reviews  \\\n",
       "0             0    * It's my first ever truly wireless buds and...   \n",
       "1             1    Music quality is average but the calling qua...   \n",
       "2             2    2 months of usage and previous unit replaced...   \n",
       "3             3    I bought this on the day of release i.e. on ...   \n",
       "4             4    Left earbud static problem minor but I have ...   \n",
       "..          ...                                                ...   \n",
       "995         995    After getting connected to the device there ...   \n",
       "996         996    Pros-Very nice sound.feels like you are in m...   \n",
       "997         997                                          Excellent   \n",
       "998         998    Battery does not last as long as the company...   \n",
       "999         999    Sound - 8/10Bass - 9/10Looks awesomeBuild qu...   \n",
       "\n",
       "     Subjectivity  Polarity  Analysis  \n",
       "0        0.479556  0.262222  Positive  \n",
       "1        0.670000 -0.447333  Negative  \n",
       "2        0.397932  0.260871  Positive  \n",
       "3        0.450649 -0.148377  Negative  \n",
       "4        0.366667  0.150000  Positive  \n",
       "..            ...       ...       ...  \n",
       "995      0.342262  0.175595  Positive  \n",
       "996      0.539216  0.213235  Positive  \n",
       "997      1.000000  1.000000  Positive  \n",
       "998      0.361111  0.027083  Positive  \n",
       "999      0.495556  0.296667  Positive  \n",
       "\n",
       "[1000 rows x 5 columns]"
      ]
     },
     "execution_count": 173,
     "metadata": {},
     "output_type": "execute_result"
    }
   ],
   "source": [
    "df"
   ]
  },
  {
   "cell_type": "code",
   "execution_count": 174,
   "metadata": {},
   "outputs": [],
   "source": [
    "pos=len(df[df['Analysis'] == 'Positive'])\n",
    "                   "
   ]
  },
  {
   "cell_type": "code",
   "execution_count": 175,
   "metadata": {},
   "outputs": [
    {
     "data": {
      "text/plain": [
       "800"
      ]
     },
     "execution_count": 175,
     "metadata": {},
     "output_type": "execute_result"
    }
   ],
   "source": [
    "pos"
   ]
  },
  {
   "cell_type": "code",
   "execution_count": 159,
   "metadata": {},
   "outputs": [],
   "source": [
    "neg=len(df[df['Analysis'] == 'Negative'])"
   ]
  },
  {
   "cell_type": "code",
   "execution_count": 160,
   "metadata": {},
   "outputs": [
    {
     "data": {
      "text/plain": [
       "300"
      ]
     },
     "execution_count": 160,
     "metadata": {},
     "output_type": "execute_result"
    }
   ],
   "source": [
    "neg\n"
   ]
  },
  {
   "cell_type": "code",
   "execution_count": 161,
   "metadata": {},
   "outputs": [
    {
     "name": "stdout",
     "output_type": "stream",
     "text": [
      "Buy the product\n"
     ]
    }
   ],
   "source": [
    "if pos>neg:\n",
    "    print('Buy the product')\n",
    "elif pos < neg:\n",
    "    print('Buy only to Regret')\n",
    "else:\n",
    "    print('Your call')\n"
   ]
  },
  {
   "cell_type": "code",
   "execution_count": null,
   "metadata": {},
   "outputs": [],
   "source": []
  }
 ],
 "metadata": {
  "kernelspec": {
   "display_name": "Python 3",
   "language": "python",
   "name": "python3"
  },
  "language_info": {
   "codemirror_mode": {
    "name": "ipython",
    "version": 3
   },
   "file_extension": ".py",
   "mimetype": "text/x-python",
   "name": "python",
   "nbconvert_exporter": "python",
   "pygments_lexer": "ipython3",
   "version": "3.8.3"
  }
 },
 "nbformat": 4,
 "nbformat_minor": 4
}
